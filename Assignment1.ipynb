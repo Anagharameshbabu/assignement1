{
  "nbformat": 4,
  "nbformat_minor": 0,
  "metadata": {
    "colab": {
      "provenance": []
    },
    "kernelspec": {
      "name": "python3",
      "display_name": "Python 3"
    },
    "language_info": {
      "name": "python"
    }
  },
  "cells": [
    {
      "cell_type": "code",
      "source": [
        "import numpy as np"
      ],
      "metadata": {
        "id": "Hwfwj0jNlfY3"
      },
      "execution_count": null,
      "outputs": []
    },
    {
      "cell_type": "code",
      "source": [
        "#Question 1"
      ],
      "metadata": {
        "id": "dUJocQ_blmXQ"
      },
      "execution_count": null,
      "outputs": []
    },
    {
      "cell_type": "code",
      "execution_count": null,
      "metadata": {
        "colab": {
          "base_uri": "https://localhost:8080/"
        },
        "id": "ruLC1asshWwt",
        "outputId": "1a7d6274-4944-4bdf-bbee-ed9088caecc8"
      },
      "outputs": [
        {
          "output_type": "stream",
          "name": "stdout",
          "text": [
            "Enter a string value:assambly\n",
            "a=2,s=2,m=1,b=1,l=1,y=1,"
          ]
        }
      ],
      "source": [
        "def count_chars():\n",
        "   user_input = input(\"Enter a string value:\")\n",
        "   char_count = {}\n",
        "   for char in user_input:\n",
        "     if char in char_count:\n",
        "      char_count[char]+=1\n",
        "     else:\n",
        "      char_count[char]=1\n",
        "   for char,count in char_count.items():\n",
        "     print(f\"{char}={count}\",end=\",\")\n",
        "count_chars()\n",
        "\n"
      ]
    },
    {
      "cell_type": "code",
      "source": [
        "#Question 2\n"
      ],
      "metadata": {
        "id": "jiHjUdF6jRhl"
      },
      "execution_count": null,
      "outputs": []
    },
    {
      "cell_type": "code",
      "source": [
        "data=np.array([34,12,7])\n",
        "data"
      ],
      "metadata": {
        "colab": {
          "base_uri": "https://localhost:8080/"
        },
        "id": "rICvPT0PlrJu",
        "outputId": "91cde1a7-3fdf-44d0-8477-a054254ba203"
      },
      "execution_count": null,
      "outputs": [
        {
          "output_type": "execute_result",
          "data": {
            "text/plain": [
              "array([34, 12,  7])"
            ]
          },
          "metadata": {},
          "execution_count": 8
        }
      ]
    },
    {
      "cell_type": "code",
      "source": [
        "data.max()"
      ],
      "metadata": {
        "colab": {
          "base_uri": "https://localhost:8080/"
        },
        "id": "5HdWlB-zl7qt",
        "outputId": "2110ab7e-dde4-4d38-d865-352a8d240874"
      },
      "execution_count": null,
      "outputs": [
        {
          "output_type": "execute_result",
          "data": {
            "text/plain": [
              "34"
            ]
          },
          "metadata": {},
          "execution_count": 10
        }
      ]
    },
    {
      "cell_type": "code",
      "source": [
        "#Question 3"
      ],
      "metadata": {
        "id": "ZNegkwzjmADo"
      },
      "execution_count": null,
      "outputs": []
    },
    {
      "cell_type": "code",
      "source": [
        "base=int(input(\"enter the base:\"))\n",
        "exp=int(input(\"enter the exponent:\"))\n",
        "result=(base**exp)\n",
        "print(result)"
      ],
      "metadata": {
        "colab": {
          "base_uri": "https://localhost:8080/"
        },
        "id": "c7O9b84LmIQb",
        "outputId": "91920c11-9ad9-4145-e1c6-603edae2aa7c"
      },
      "execution_count": null,
      "outputs": [
        {
          "output_type": "stream",
          "name": "stdout",
          "text": [
            "enter the base:2\n",
            "enter the exponent:3\n",
            "8\n"
          ]
        }
      ]
    },
    {
      "cell_type": "code",
      "source": [
        "#Question 4"
      ],
      "metadata": {
        "id": "Js8LB9dYnM_0"
      },
      "execution_count": null,
      "outputs": []
    },
    {
      "cell_type": "code",
      "source": [
        "def sum_of_cubes(n):\n",
        "  return sum(i**3 for i in range(1,n))\n",
        "num=int(input(\"enter a positive integer:\"))\n",
        "print(sum_of_cubes(num))\n"
      ],
      "metadata": {
        "colab": {
          "base_uri": "https://localhost:8080/"
        },
        "id": "j5XJen2Kogy1",
        "outputId": "586e8e21-1354-4dff-dc7c-fd3ecabddbb1"
      },
      "execution_count": null,
      "outputs": [
        {
          "output_type": "stream",
          "name": "stdout",
          "text": [
            "enter a positive integer:4\n",
            "36\n"
          ]
        }
      ]
    },
    {
      "cell_type": "code",
      "source": [
        "#Question 5"
      ],
      "metadata": {
        "id": "2O2b3Cz8pYQF"
      },
      "execution_count": null,
      "outputs": []
    },
    {
      "cell_type": "code",
      "source": [
        "for i in range(1,11):\n",
        "  if i % 2 == 0 and i % 5 == 0:\n",
        "    print(\"FizzBuzz\")\n",
        "  elif i % 2 == 0:\n",
        "    print(\"Fizz\")\n",
        "  elif i % 5 == 0:\n",
        "    print(\"Buzz\")\n",
        "  else:\n",
        "    print(i)"
      ],
      "metadata": {
        "colab": {
          "base_uri": "https://localhost:8080/"
        },
        "id": "-Fq7lCi1qH5Q",
        "outputId": "dc203443-cee6-4b67-a8fc-b4b26546d619"
      },
      "execution_count": null,
      "outputs": [
        {
          "output_type": "stream",
          "name": "stdout",
          "text": [
            "1\n",
            "Fizz\n",
            "3\n",
            "Fizz\n",
            "Buzz\n",
            "Fizz\n",
            "7\n",
            "Fizz\n",
            "9\n",
            "FizzBuzz\n"
          ]
        }
      ]
    },
    {
      "cell_type": "code",
      "source": [
        "#Question 6"
      ],
      "metadata": {
        "id": "prx4kKC0rKsD"
      },
      "execution_count": null,
      "outputs": []
    },
    {
      "cell_type": "code",
      "source": [
        "def most_frequent(nums):\n",
        "  return max(set(nums),key=nums.count)\n",
        "numbers=[2,3,4,2,5,2]\n",
        "print(most_frequent(numbers))\n"
      ],
      "metadata": {
        "colab": {
          "base_uri": "https://localhost:8080/"
        },
        "id": "lu4UPfO0rU0s",
        "outputId": "c0714715-98c9-4e7e-f2c5-858187adf3a6"
      },
      "execution_count": null,
      "outputs": [
        {
          "output_type": "stream",
          "name": "stdout",
          "text": [
            "2\n"
          ]
        }
      ]
    },
    {
      "cell_type": "code",
      "source": [
        "#Question 7"
      ],
      "metadata": {
        "id": "UPYJmF2itARy"
      },
      "execution_count": null,
      "outputs": []
    },
    {
      "cell_type": "code",
      "source": [
        "def sum_of_squares(nums):\n",
        "  return sum(x**2 for x in nums)\n",
        "numbers = [2,1,3,1]\n",
        "print(sum_of_squares(numbers))"
      ],
      "metadata": {
        "colab": {
          "base_uri": "https://localhost:8080/"
        },
        "id": "5PcGGPSMvW1X",
        "outputId": "7e6d2010-bdd6-4987-af0d-12d72dbfc1b9"
      },
      "execution_count": null,
      "outputs": [
        {
          "output_type": "stream",
          "name": "stdout",
          "text": [
            "15\n"
          ]
        }
      ]
    },
    {
      "cell_type": "code",
      "source": [
        "#Question 8\n",
        "for i in range(1,16):\n",
        "  if i % 2 == 0:\n",
        "    print(f\"{i}is even\")\n",
        "  else:\n",
        "    print(f\"{i}is odd\")\n"
      ],
      "metadata": {
        "colab": {
          "base_uri": "https://localhost:8080/"
        },
        "id": "IFm8k-WSwCG-",
        "outputId": "88dab020-9435-4c26-ff69-f742f5d3656d"
      },
      "execution_count": null,
      "outputs": [
        {
          "output_type": "stream",
          "name": "stdout",
          "text": [
            "1is odd\n",
            "2is even\n",
            "3is odd\n",
            "4is even\n",
            "5is odd\n",
            "6is even\n",
            "7is odd\n",
            "8is even\n",
            "9is odd\n",
            "10is even\n",
            "11is odd\n",
            "12is even\n",
            "13is odd\n",
            "14is even\n",
            "15is odd\n"
          ]
        }
      ]
    },
    {
      "cell_type": "code",
      "source": [
        "#Question 9"
      ],
      "metadata": {
        "id": "2SvWMDMZxDpH"
      },
      "execution_count": null,
      "outputs": []
    },
    {
      "cell_type": "code",
      "source": [
        "def celsius_to_fahrenheit(c):\n",
        "  return (c*9/5)+32\n",
        "def fahrenheit_to_celsius(f):\n",
        "  return (f-32)*5/9\n",
        "f = float(input(\"temperature in fahrenheit=\"))\n",
        "c = fahrenheit_to_celsius(f)\n",
        "print(f\"temperature in celsius={int(c)}\")\n",
        "c = float(input(\"temperature in celsius=\"))\n",
        "f = celsius_to_fahrenheit(c)\n",
        "print(f\"temperature in fahrenheit={int(f)}\")"
      ],
      "metadata": {
        "colab": {
          "base_uri": "https://localhost:8080/"
        },
        "id": "CLP46gN9x1Uy",
        "outputId": "40d46525-8795-4b39-9d35-4b309dd61fcd"
      },
      "execution_count": null,
      "outputs": [
        {
          "output_type": "stream",
          "name": "stdout",
          "text": [
            "temperature in fahrenheit=41\n",
            "temperature in celsius=5\n",
            "temperature in celsius=5\n",
            "temperature in fahrenheit=41\n"
          ]
        }
      ]
    },
    {
      "cell_type": "code",
      "source": [
        "#Question 10"
      ],
      "metadata": {
        "id": "Sx117UPmQaNq"
      },
      "execution_count": null,
      "outputs": []
    },
    {
      "cell_type": "code",
      "source": [
        "def factorial(n):\n",
        "  result = 1\n",
        "  for i in range(1,n+1):\n",
        "    result*=i\n",
        "  return result\n",
        "print(factorial(3))"
      ],
      "metadata": {
        "colab": {
          "base_uri": "https://localhost:8080/"
        },
        "id": "PoNd3KbDy3aL",
        "outputId": "714bc7a5-c9be-470b-f591-4f7600e4383e"
      },
      "execution_count": null,
      "outputs": [
        {
          "output_type": "stream",
          "name": "stdout",
          "text": [
            "6\n"
          ]
        }
      ]
    },
    {
      "cell_type": "code",
      "source": [],
      "metadata": {
        "id": "iT1HxFtU50Ed"
      },
      "execution_count": null,
      "outputs": []
    }
  ]
}